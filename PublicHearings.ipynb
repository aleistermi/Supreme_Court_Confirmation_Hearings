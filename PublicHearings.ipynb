{
 "cells": [
  {
   "cell_type": "code",
   "execution_count": 2,
   "metadata": {},
   "outputs": [],
   "source": [
    "import pandas as pd\n",
    "import csv\n",
    "import importlib\n",
    "import nltk\n",
    "import collections\n",
    "from nltk.tokenize import sent_tokenize, word_tokenize\n",
    "from nltk.corpus import stopwords\n",
    "from nltk.tokenize import RegexpTokenizer\n",
    "import matplotlib.pyplot as plt\n",
    "import seaborn as sns\n",
    "import glob\n",
    "import os\n",
    "import re\n",
    "import sys\n",
    "import spacy\n",
    "import string\n",
    "from os import listdir\n",
    "from os.path import isfile, join\n",
    "import numpy as np\n",
    "stopWords = set(stopwords.words('english'))\n",
    "tokenizer = RegexpTokenizer(r'\\w+')"
   ]
  },
  {
   "cell_type": "code",
   "execution_count": 3,
   "metadata": {},
   "outputs": [],
   "source": [
    "data = pd.read_csv(\"April22-Supreme-Court-Confirmation-Hearing-Transcript.csv\", encoding=\"ISO-8859-1\")"
   ]
  },
  {
   "cell_type": "code",
   "execution_count": 19,
   "metadata": {},
   "outputs": [
    {
     "data": {
      "text/plain": [
       "Index(['Total Order', 'Order', 'Year', 'Hearing', 'Title',\n",
       "       'Speaker (Party)(or nominated by)', 'Speaker and title', 'Statements'],\n",
       "      dtype='object')"
      ]
     },
     "execution_count": 19,
     "metadata": {},
     "output_type": "execute_result"
    }
   ],
   "source": [
    "data.columns"
   ]
  },
  {
   "cell_type": "code",
   "execution_count": 30,
   "metadata": {},
   "outputs": [
    {
     "data": {
      "text/plain": [
       "15"
      ]
     },
     "execution_count": 30,
     "metadata": {},
     "output_type": "execute_result"
    }
   ],
   "source": [
    "len(list(data.Hearing.unique()))"
   ]
  },
  {
   "cell_type": "code",
   "execution_count": 32,
   "metadata": {},
   "outputs": [
    {
     "data": {
      "text/plain": [
       "Index(['Total Order', 'Order', 'Year', 'Hearing', 'Title',\n",
       "       'Speaker (Party)(or nominated by)', 'Speaker and title', 'Statements'],\n",
       "      dtype='object')"
      ]
     },
     "execution_count": 32,
     "metadata": {},
     "output_type": "execute_result"
    }
   ],
   "source": [
    "data.columns"
   ]
  },
  {
   "cell_type": "code",
   "execution_count": 34,
   "metadata": {},
   "outputs": [
    {
     "data": {
      "text/plain": [
       "array([2017, 2010, 2009, 2006, 2005, 1994, 1993, 1991, 1990, 1987, 1986,\n",
       "       1981, 1975, 1971])"
      ]
     },
     "execution_count": 34,
     "metadata": {},
     "output_type": "execute_result"
    }
   ],
   "source": [
    "data.Year.unique()"
   ]
  },
  {
   "cell_type": "code",
   "execution_count": 52,
   "metadata": {},
   "outputs": [
    {
     "data": {
      "text/html": [
       "<div>\n",
       "<style scoped>\n",
       "    .dataframe tbody tr th:only-of-type {\n",
       "        vertical-align: middle;\n",
       "    }\n",
       "\n",
       "    .dataframe tbody tr th {\n",
       "        vertical-align: top;\n",
       "    }\n",
       "\n",
       "    .dataframe thead th {\n",
       "        text-align: right;\n",
       "    }\n",
       "</style>\n",
       "<table border=\"1\" class=\"dataframe\">\n",
       "  <thead>\n",
       "    <tr style=\"text-align: right;\">\n",
       "      <th></th>\n",
       "      <th>Total Order</th>\n",
       "      <th>Order</th>\n",
       "      <th>Year</th>\n",
       "      <th>Hearing</th>\n",
       "      <th>Title</th>\n",
       "      <th>Speaker (Party)(or nominated by)</th>\n",
       "      <th>Speaker and title</th>\n",
       "      <th>Statements</th>\n",
       "    </tr>\n",
       "  </thead>\n",
       "  <tbody>\n",
       "    <tr>\n",
       "      <th>0</th>\n",
       "      <td>1</td>\n",
       "      <td>1</td>\n",
       "      <td>2017</td>\n",
       "      <td>Neil M. Gorsuch</td>\n",
       "      <td>Chairman</td>\n",
       "      <td>R</td>\n",
       "      <td>Senator Chuck Grassley (IA)</td>\n",
       "      <td>Chairman Grassley. Good morning, everybody. I ...</td>\n",
       "    </tr>\n",
       "    <tr>\n",
       "      <th>1</th>\n",
       "      <td>2</td>\n",
       "      <td>2</td>\n",
       "      <td>2017</td>\n",
       "      <td>Neil M. Gorsuch</td>\n",
       "      <td>Nominee</td>\n",
       "      <td>R</td>\n",
       "      <td>Neil M. Gorsuch</td>\n",
       "      <td>Judge Gorsuch. Pleasure to be here. Thank you.</td>\n",
       "    </tr>\n",
       "    <tr>\n",
       "      <th>2</th>\n",
       "      <td>3</td>\n",
       "      <td>3</td>\n",
       "      <td>2017</td>\n",
       "      <td>Neil M. Gorsuch</td>\n",
       "      <td>Chairman</td>\n",
       "      <td>R</td>\n",
       "      <td>Senator Chuck Grassley (IA)</td>\n",
       "      <td>Chairman Grassley. This is a big day for you a...</td>\n",
       "    </tr>\n",
       "    <tr>\n",
       "      <th>3</th>\n",
       "      <td>4</td>\n",
       "      <td>4</td>\n",
       "      <td>2017</td>\n",
       "      <td>Neil M. Gorsuch</td>\n",
       "      <td>Nominee</td>\n",
       "      <td>R</td>\n",
       "      <td>Neil M. Gorsuch</td>\n",
       "      <td>Judge Gorsuch. Just a little, Senator.</td>\n",
       "    </tr>\n",
       "    <tr>\n",
       "      <th>4</th>\n",
       "      <td>5</td>\n",
       "      <td>5</td>\n",
       "      <td>2017</td>\n",
       "      <td>Neil M. Gorsuch</td>\n",
       "      <td>Chairman</td>\n",
       "      <td>R</td>\n",
       "      <td>Senator Chuck Grassley (IA)</td>\n",
       "      <td>Chairman Grassley. Yes. Before we begin, I wou...</td>\n",
       "    </tr>\n",
       "    <tr>\n",
       "      <th>5</th>\n",
       "      <td>6</td>\n",
       "      <td>6</td>\n",
       "      <td>2017</td>\n",
       "      <td>Neil M. Gorsuch</td>\n",
       "      <td>Nominee</td>\n",
       "      <td>R</td>\n",
       "      <td>Neil M. Gorsuch</td>\n",
       "      <td>Judge Gorsuch. Senator, this is quite a lot di...</td>\n",
       "    </tr>\n",
       "    <tr>\n",
       "      <th>6</th>\n",
       "      <td>7</td>\n",
       "      <td>7</td>\n",
       "      <td>2017</td>\n",
       "      <td>Neil M. Gorsuch</td>\n",
       "      <td>Chairman</td>\n",
       "      <td>R</td>\n",
       "      <td>Senator Chuck Grassley (IA)</td>\n",
       "      <td>Chairman Grassley. Yes.</td>\n",
       "    </tr>\n",
       "    <tr>\n",
       "      <th>7</th>\n",
       "      <td>8</td>\n",
       "      <td>8</td>\n",
       "      <td>2017</td>\n",
       "      <td>Neil M. Gorsuch</td>\n",
       "      <td>Nominee</td>\n",
       "      <td>R</td>\n",
       "      <td>Neil M. Gorsuch</td>\n",
       "      <td>Judge Gorsuch. I have got here somewhere, I am...</td>\n",
       "    </tr>\n",
       "    <tr>\n",
       "      <th>8</th>\n",
       "      <td>9</td>\n",
       "      <td>9</td>\n",
       "      <td>2017</td>\n",
       "      <td>Neil M. Gorsuch</td>\n",
       "      <td>Chairman</td>\n",
       "      <td>R</td>\n",
       "      <td>Senator Chuck Grassley (IA)</td>\n",
       "      <td>Chairman Grassley. Thank you. We thank you, Ju...</td>\n",
       "    </tr>\n",
       "    <tr>\n",
       "      <th>9</th>\n",
       "      <td>10</td>\n",
       "      <td>10</td>\n",
       "      <td>2017</td>\n",
       "      <td>Neil M. Gorsuch</td>\n",
       "      <td>Senator</td>\n",
       "      <td>D</td>\n",
       "      <td>Senator Dianne Feinstein (CA)</td>\n",
       "      <td>Senator Feinstein. Thank you very much, Mr. Ch...</td>\n",
       "    </tr>\n",
       "  </tbody>\n",
       "</table>\n",
       "</div>"
      ],
      "text/plain": [
       "   Total Order  Order  Year          Hearing     Title  \\\n",
       "0            1      1  2017  Neil M. Gorsuch  Chairman   \n",
       "1            2      2  2017  Neil M. Gorsuch   Nominee   \n",
       "2            3      3  2017  Neil M. Gorsuch  Chairman   \n",
       "3            4      4  2017  Neil M. Gorsuch   Nominee   \n",
       "4            5      5  2017  Neil M. Gorsuch  Chairman   \n",
       "5            6      6  2017  Neil M. Gorsuch   Nominee   \n",
       "6            7      7  2017  Neil M. Gorsuch  Chairman   \n",
       "7            8      8  2017  Neil M. Gorsuch   Nominee   \n",
       "8            9      9  2017  Neil M. Gorsuch  Chairman   \n",
       "9           10     10  2017  Neil M. Gorsuch   Senator   \n",
       "\n",
       "  Speaker (Party)(or nominated by)              Speaker and title  \\\n",
       "0                                R    Senator Chuck Grassley (IA)   \n",
       "1                                R                Neil M. Gorsuch   \n",
       "2                                R    Senator Chuck Grassley (IA)   \n",
       "3                                R                Neil M. Gorsuch   \n",
       "4                                R    Senator Chuck Grassley (IA)   \n",
       "5                                R                Neil M. Gorsuch   \n",
       "6                                R    Senator Chuck Grassley (IA)   \n",
       "7                                R                Neil M. Gorsuch   \n",
       "8                                R    Senator Chuck Grassley (IA)   \n",
       "9                                D  Senator Dianne Feinstein (CA)   \n",
       "\n",
       "                                          Statements  \n",
       "0  Chairman Grassley. Good morning, everybody. I ...  \n",
       "1     Judge Gorsuch. Pleasure to be here. Thank you.  \n",
       "2  Chairman Grassley. This is a big day for you a...  \n",
       "3             Judge Gorsuch. Just a little, Senator.  \n",
       "4  Chairman Grassley. Yes. Before we begin, I wou...  \n",
       "5  Judge Gorsuch. Senator, this is quite a lot di...  \n",
       "6                            Chairman Grassley. Yes.  \n",
       "7  Judge Gorsuch. I have got here somewhere, I am...  \n",
       "8  Chairman Grassley. Thank you. We thank you, Ju...  \n",
       "9  Senator Feinstein. Thank you very much, Mr. Ch...  "
      ]
     },
     "execution_count": 52,
     "metadata": {},
     "output_type": "execute_result"
    }
   ],
   "source": [
    "data[:10]"
   ]
  },
  {
   "cell_type": "code",
   "execution_count": 301,
   "metadata": {},
   "outputs": [
    {
     "data": {
      "text/plain": [
       "['Neil M. Gorsuch',\n",
       " 'Elena Kagan',\n",
       " 'Sonia Sotomayor',\n",
       " 'Samuel A. Alito, Jr.',\n",
       " 'John G. Roberts, Jr.',\n",
       " 'Stephen G. Breyer',\n",
       " 'Ruth Bader Ginsburg',\n",
       " 'Clarence Thomas',\n",
       " 'David H. Souter',\n",
       " 'Anthony M. Kennedy',\n",
       " 'William H. Rehnquist (to be chief)',\n",
       " 'Antonin Scalia',\n",
       " \"Sandra Day O'Connor\",\n",
       " 'John Paul Stevens',\n",
       " 'William H. Rehnquist (to be Associate Justice) and Lewis F. Powell Jr.']"
      ]
     },
     "execution_count": 301,
     "metadata": {},
     "output_type": "execute_result"
    }
   ],
   "source": [
    "hearings_names = list(data.Hearing.unique()) \n",
    "hearings_names"
   ]
  },
  {
   "cell_type": "code",
   "execution_count": 28,
   "metadata": {},
   "outputs": [],
   "source": [
    "ls=[]\n",
    "dict_of_hearings = {}\n",
    "for i, row in data.iterrows():\n",
    "    tup = (row['Year'], row['Hearing'])\n",
    "    ls.append(tup)\n",
    "for tup in ls:\n",
    "    if tup not in dict_of_hearings:\n",
    "        dict_of_hearings[tup]={}"
   ]
  },
  {
   "cell_type": "code",
   "execution_count": 37,
   "metadata": {},
   "outputs": [
    {
     "data": {
      "text/plain": [
       "[('R', 'Senator Chuck Grassley (IA)'),\n",
       " ('R', 'Neil M. Gorsuch'),\n",
       " ('D', 'Senator Dianne Feinstein (CA)'),\n",
       " ('R', 'Senator Orrin Hatch (UT)'),\n",
       " ('D', 'Senator Patrick Leahy (VT)'),\n",
       " ('R', 'Senator John Cornyn (TX)'),\n",
       " ('D', 'Senator Dick Durbin (IL)'),\n",
       " ('R', 'Senator Mike Lee (UT)'),\n",
       " ('D', 'Senator Sheldon Whitehouse (RI)'),\n",
       " ('R', 'Senator Lindsey Graham (SC)'),\n",
       " ('D', 'Senator Amy Klobuchar (MN)'),\n",
       " ('R', 'Senator Ted Cruz (TX)'),\n",
       " ('D', 'Senator Al Franken (MN)'),\n",
       " ('R', 'Senator Ben Sasse (NE)'),\n",
       " ('D', 'Senator Chris Coons (DE)'),\n",
       " ('R', 'Senator Jeff Flake (AZ)'),\n",
       " ('D', 'Senator Richard Blumenthal (D-CT)'),\n",
       " ('R', 'Senator Mike Crapo (ID)'),\n",
       " ('R', 'Senator Thom Tillis (NC)'),\n",
       " ('D', 'Senator Mazie Hirono (HI)'),\n",
       " ('R', 'Senator John Neely Kennedy (LA)'),\n",
       " ('D', 'Senator Michael Bennet (CO)'),\n",
       " ('R', 'Senator Cory Gardner (CO)'),\n",
       " ('D', 'Neal Katyal'),\n",
       " ('R', 'Senator Jeff Sessions (AL)'),\n",
       " ('D', 'Senator Herb Kohl (WI)'),\n",
       " ('D', 'Senator Russ Feingold (WI)'),\n",
       " ('R', 'Senator Jon Kyl (AZ)'),\n",
       " ('R', 'Senator Arlen Specter (PA)'),\n",
       " ('D', 'Senator Chuck Schumer (NY)'),\n",
       " ('R', 'Senator Tom Coburn (OK)'),\n",
       " ('D', 'Senator Ben Cardin (MD)'),\n",
       " ('D', 'Senator Ted Kaufman (DE)'),\n",
       " ('D', 'Senator John Kerry (MA)'),\n",
       " ('R', 'Senator Scott Brown (MA)'),\n",
       " ('D', 'Elena Kagan'),\n",
       " ('D', 'Sonia Sotomayor'),\n",
       " ('D', 'Senator Kirsten Gillibrand (NY)'),\n",
       " ('R', 'Samuel A. Alito, Jr.'),\n",
       " ('D', 'Senator Ted Kennedy (MA)'),\n",
       " ('D', 'Senator Joe Biden (DE)'),\n",
       " ('R', 'Senator Mike DeWine (OH)'),\n",
       " ('R', 'Senator Sam Brownback (KS)'),\n",
       " ('D', 'Senator Frank Lautenberg (NJ)'),\n",
       " ('R', 'Governor Christine Todd Whitman'),\n",
       " ('R', 'John G. Roberts, Jr.'),\n",
       " ('R', 'Senator Richard Lugar (IN)'),\n",
       " ('D', 'Senator Evan Bayh (IN)'),\n",
       " ('R', 'Senator John Warner (VA)'),\n",
       " ('D', 'Senator Barbara Boxer (CA)'),\n",
       " ('D', 'Stephen G. Breyer'),\n",
       " ('R', 'Senator Strom Thurmond (SC)'),\n",
       " ('D', 'Senator Howard Metzenbaum (OH)'),\n",
       " ('R', 'Senator Alan Simpson (WY)'),\n",
       " ('D', 'Senator Dennis DeConcini (AZ)'),\n",
       " ('D', 'Senator Howell Heflin (AL)'),\n",
       " ('R', 'Senator Hank Brown (CO)'),\n",
       " ('R', 'Senator William Cohen (ME)'),\n",
       " ('D', 'Senator Paul Simon (IL)'),\n",
       " ('R', 'Senator Larry Pressler (SD)'),\n",
       " ('D', 'Senator Carol Moseley Braun (IL)'),\n",
       " ('D', 'Ruth Bader Ginsburg'),\n",
       " ('D', 'Senator Daniel Patrick Moynihan (NY)'),\n",
       " ('R', \"Senator Al D'Amato (NY)\"),\n",
       " ('D', 'Rep. Eleanor Holmes Norton (DC)'),\n",
       " ('R', 'Clarence Thomas'),\n",
       " ('D', 'Senator Sam Nunn (GA)'),\n",
       " ('D', 'Senator Wyche Fowler (GA)'),\n",
       " ('D', 'Senator Chuck Robb (VA)'),\n",
       " ('R', 'Senator Kit Bond (MO)'),\n",
       " ('R', 'Senator John Danforth (MO)'),\n",
       " ('R', 'David H. Souter'),\n",
       " ('R', 'Senator Gordon J. Humphrey (NH)'),\n",
       " ('R', 'Senator Warren Bruce Rudman (NH)'),\n",
       " ('R', 'Senator Pete Wilson (CA)'),\n",
       " ('D', 'Rep. Vic Fazio (NY)'),\n",
       " ('D', 'Rep. Robert Matsui (CA)'),\n",
       " ('R', 'Anthony M. Kennedy'),\n",
       " ('R', 'Senator Bob Dole (KS)'),\n",
       " ('D', 'Senator Robert Carlyle Byrd (WV)'),\n",
       " ('R', 'Senator Paul Trible (VA)'),\n",
       " ('R', 'Senator Charles Mathias (MD)'),\n",
       " ('R', 'Senator Paul Laxalt (NV)'),\n",
       " ('R', 'Senator Jeremiah Denton (AL)'),\n",
       " ('R', 'Senator Mitch McConnell (KY)'),\n",
       " ('R', 'Senator Jim Broyhill (NC)'),\n",
       " ('R', 'William H. Rehnquist'),\n",
       " (nan, 'Staffer'),\n",
       " (nan, 'Unclear'),\n",
       " ('R', 'Antonin Scalia'),\n",
       " ('R', 'Senator Pete Domenici (NM)'),\n",
       " ('R', 'Senator John Porter East (NC)'),\n",
       " ('D', 'Senator Max Baucus (MT)'),\n",
       " ('R', 'Attorney General William French Smith'),\n",
       " ('R', 'Senator Barry Goldwater (AZ)'),\n",
       " ('D', 'Senator Jennings Randolph (WV)'),\n",
       " ('D', 'Rep. Mo Udall (AZ)'),\n",
       " ('R', 'Rep. Eldon Rudd (AZ)'),\n",
       " ('R', \"Sandra Day O'Connor\"),\n",
       " ('D', 'Senator James Eastland (MS)'),\n",
       " ('R', 'Senator Roman Hruska (NE)'),\n",
       " ('R', 'John Paul Stevens'),\n",
       " (nan, 'Attorney General Edward Levi'),\n",
       " ('R', 'Senator Charles H. Percy (IL)'),\n",
       " ('D', 'Senator Adlai Stevenson III (IL)'),\n",
       " ('D', 'Senator John Little McClellan (AR)'),\n",
       " ('D', 'Senator Philip Hart (MI)'),\n",
       " ('R', 'Senator William L. Scott (VA)'),\n",
       " ('R', 'Senator Hiram Fong (HI)'),\n",
       " ('D', 'Senator Quentin Burdick (ND)'),\n",
       " ('D', 'Senator John V. Tunney (CA)'),\n",
       " ('R', 'Senator Paul Fannin (AZ)'),\n",
       " ('R', 'Rep. John Rhodes (AZ)'),\n",
       " ('D', 'Senator Sam Ervin (NC)'),\n",
       " ('D', 'Senator Birch Bayh (IN)'),\n",
       " ('R', 'Senator Marlow Cook (KY)'),\n",
       " ('R', 'Senator Hugh Scott (PA)'),\n",
       " ('D', 'Rep. David Satterfield (VA)'),\n",
       " ('D', 'Senator William B. Spong Jr. (VA)'),\n",
       " (nan, 'Senator William B. Spong Jr. (VA)'),\n",
       " (nan, 'Senator Hiram Fong (HI)'),\n",
       " ('R', 'Senator Edward Gurney (FL)'),\n",
       " ('R', 'Lewis F. Powell Jr.')]"
      ]
     },
     "execution_count": 37,
     "metadata": {},
     "output_type": "execute_result"
    }
   ],
   "source": [
    "list_of_tuples=[]\n",
    "for i, row in data.iterrows():\n",
    "    tup = (row['Speaker (Party)(or nominated by)'], row['Speaker and title'])\n",
    "    if tup not in list_of_tuples:\n",
    "        list_of_tuples.append(tup)\n",
    "list_of_tuples"
   ]
  },
  {
   "cell_type": "code",
   "execution_count": 30,
   "metadata": {},
   "outputs": [],
   "source": [
    "for k, v in dict_of_hearings.items():\n",
    "    for tuple_speaker in list_of_tuples:\n",
    "        if tuple_speaker not in v:\n",
    "            v[tuple_speaker]=[]"
   ]
  },
  {
   "cell_type": "code",
   "execution_count": 7,
   "metadata": {},
   "outputs": [
    {
     "data": {
      "text/html": [
       "<div>\n",
       "<style scoped>\n",
       "    .dataframe tbody tr th:only-of-type {\n",
       "        vertical-align: middle;\n",
       "    }\n",
       "\n",
       "    .dataframe tbody tr th {\n",
       "        vertical-align: top;\n",
       "    }\n",
       "\n",
       "    .dataframe thead th {\n",
       "        text-align: right;\n",
       "    }\n",
       "</style>\n",
       "<table border=\"1\" class=\"dataframe\">\n",
       "  <thead>\n",
       "    <tr style=\"text-align: right;\">\n",
       "      <th></th>\n",
       "      <th>Total Order</th>\n",
       "      <th>Order</th>\n",
       "      <th>Year</th>\n",
       "      <th>Hearing</th>\n",
       "      <th>Title</th>\n",
       "      <th>Speaker (Party)(or nominated by)</th>\n",
       "      <th>Speaker and title</th>\n",
       "      <th>Statements</th>\n",
       "    </tr>\n",
       "  </thead>\n",
       "  <tbody>\n",
       "    <tr>\n",
       "      <th>0</th>\n",
       "      <td>1</td>\n",
       "      <td>1</td>\n",
       "      <td>2017</td>\n",
       "      <td>Neil M. Gorsuch</td>\n",
       "      <td>Chairman</td>\n",
       "      <td>R</td>\n",
       "      <td>Senator Chuck Grassley (IA)</td>\n",
       "      <td>Chairman Grassley. Good morning, everybody. I ...</td>\n",
       "    </tr>\n",
       "    <tr>\n",
       "      <th>1</th>\n",
       "      <td>2</td>\n",
       "      <td>2</td>\n",
       "      <td>2017</td>\n",
       "      <td>Neil M. Gorsuch</td>\n",
       "      <td>Nominee</td>\n",
       "      <td>R</td>\n",
       "      <td>Neil M. Gorsuch</td>\n",
       "      <td>Judge Gorsuch. Pleasure to be here. Thank you.</td>\n",
       "    </tr>\n",
       "    <tr>\n",
       "      <th>2</th>\n",
       "      <td>3</td>\n",
       "      <td>3</td>\n",
       "      <td>2017</td>\n",
       "      <td>Neil M. Gorsuch</td>\n",
       "      <td>Chairman</td>\n",
       "      <td>R</td>\n",
       "      <td>Senator Chuck Grassley (IA)</td>\n",
       "      <td>Chairman Grassley. This is a big day for you a...</td>\n",
       "    </tr>\n",
       "    <tr>\n",
       "      <th>3</th>\n",
       "      <td>4</td>\n",
       "      <td>4</td>\n",
       "      <td>2017</td>\n",
       "      <td>Neil M. Gorsuch</td>\n",
       "      <td>Nominee</td>\n",
       "      <td>R</td>\n",
       "      <td>Neil M. Gorsuch</td>\n",
       "      <td>Judge Gorsuch. Just a little, Senator.</td>\n",
       "    </tr>\n",
       "    <tr>\n",
       "      <th>4</th>\n",
       "      <td>5</td>\n",
       "      <td>5</td>\n",
       "      <td>2017</td>\n",
       "      <td>Neil M. Gorsuch</td>\n",
       "      <td>Chairman</td>\n",
       "      <td>R</td>\n",
       "      <td>Senator Chuck Grassley (IA)</td>\n",
       "      <td>Chairman Grassley. Yes. Before we begin, I wou...</td>\n",
       "    </tr>\n",
       "  </tbody>\n",
       "</table>\n",
       "</div>"
      ],
      "text/plain": [
       "   Total Order  Order  Year          Hearing     Title  \\\n",
       "0            1      1  2017  Neil M. Gorsuch  Chairman   \n",
       "1            2      2  2017  Neil M. Gorsuch   Nominee   \n",
       "2            3      3  2017  Neil M. Gorsuch  Chairman   \n",
       "3            4      4  2017  Neil M. Gorsuch   Nominee   \n",
       "4            5      5  2017  Neil M. Gorsuch  Chairman   \n",
       "\n",
       "  Speaker (Party)(or nominated by)            Speaker and title  \\\n",
       "0                                R  Senator Chuck Grassley (IA)   \n",
       "1                                R              Neil M. Gorsuch   \n",
       "2                                R  Senator Chuck Grassley (IA)   \n",
       "3                                R              Neil M. Gorsuch   \n",
       "4                                R  Senator Chuck Grassley (IA)   \n",
       "\n",
       "                                          Statements  \n",
       "0  Chairman Grassley. Good morning, everybody. I ...  \n",
       "1     Judge Gorsuch. Pleasure to be here. Thank you.  \n",
       "2  Chairman Grassley. This is a big day for you a...  \n",
       "3             Judge Gorsuch. Just a little, Senator.  \n",
       "4  Chairman Grassley. Yes. Before we begin, I wou...  "
      ]
     },
     "execution_count": 7,
     "metadata": {},
     "output_type": "execute_result"
    }
   ],
   "source": [
    "data.head()"
   ]
  },
  {
   "cell_type": "code",
   "execution_count": 339,
   "metadata": {},
   "outputs": [],
   "source": [
    "partisan_dict={}\n",
    "ls = []\n",
    "for i, row in data.iterrows():\n",
    "    if row['Speaker (Party)(or nominated by)']== \"R\" or row['Speaker (Party)(or nominated by)']== \"D\" :\n",
    "        ls.append((row[\"Year\"],row['Speaker (Party)(or nominated by)']))\n",
    "for tup in ls:\n",
    "    if tup not in partisan_dict:\n",
    "        partisan_dict[tup]=[]\n"
   ]
  },
  {
   "cell_type": "code",
   "execution_count": 340,
   "metadata": {},
   "outputs": [],
   "source": [
    "for i, row in data.iterrows():\n",
    "    for key, val in partisan_dict.items():\n",
    "        if row['Year'] == key[0] and row['Speaker (Party)(or nominated by)'] == key[1] and row['Hearing']!=row['Speaker and title']:\n",
    "            val.append(row['Statements'])"
   ]
  },
  {
   "cell_type": "code",
   "execution_count": 303,
   "metadata": {},
   "outputs": [
    {
     "data": {
      "text/plain": [
       "dict_keys([(2017, 'R'), (2017, 'D'), (2010, 'D'), (2010, 'R'), (2009, 'D'), (2009, 'R'), (2006, 'R'), (2006, 'D'), (2005, 'R'), (2005, 'D'), (1994, 'D'), (1994, 'R'), (1993, 'D'), (1993, 'R'), (1991, 'D'), (1991, 'R'), (1990, 'D'), (1990, 'R'), (1987, 'D'), (1987, 'R'), (1986, 'R'), (1986, 'D'), (1981, 'R'), (1981, 'D'), (1975, 'D'), (1975, 'R'), (1971, 'D'), (1971, 'R')])"
      ]
     },
     "execution_count": 303,
     "metadata": {},
     "output_type": "execute_result"
    }
   ],
   "source": [
    "partisan_dict.keys()"
   ]
  },
  {
   "cell_type": "code",
   "execution_count": 333,
   "metadata": {},
   "outputs": [],
   "source": [
    "#partisan_dict[(2017, 'R')]"
   ]
  },
  {
   "cell_type": "code",
   "execution_count": 341,
   "metadata": {},
   "outputs": [],
   "source": [
    "republican_count = {}\n",
    "democrat_count={}\n",
    "keys_to_keep = []\n",
    "for key,val in partisan_dict.items():\n",
    "    if key[1]==\"R\":\n",
    "        republican_count[key] = val\n",
    "    else:\n",
    "        democrat_count[key] = val\n"
   ]
  },
  {
   "cell_type": "code",
   "execution_count": 342,
   "metadata": {},
   "outputs": [],
   "source": [
    "republican_count = clean_words(republican_count)\n",
    "democrat_count = clean_words(democrat_count)\n",
    "republican_count= total_word_count(republican_count)\n",
    "democrat_count = total_word_count(democrat_count)"
   ]
  },
  {
   "cell_type": "code",
   "execution_count": 304,
   "metadata": {},
   "outputs": [
    {
     "data": {
      "text/plain": [
       "{('Anthony M. Kennedy', 1987),\n",
       " ('Antonin Scalia', 1986),\n",
       " ('Clarence Thomas', 1991),\n",
       " ('David H. Souter', 1990),\n",
       " ('Elena Kagan', 2010),\n",
       " ('John G. Roberts, Jr.', 2005),\n",
       " ('John Paul Stevens', 1975),\n",
       " ('Neil M. Gorsuch', 2017),\n",
       " ('Ruth Bader Ginsburg', 1993),\n",
       " ('Samuel A. Alito, Jr.', 2006),\n",
       " (\"Sandra Day O'Connor\", 1981),\n",
       " ('Sonia Sotomayor', 2009),\n",
       " ('Stephen G. Breyer', 1994),\n",
       " ('William H. Rehnquist (to be Associate Justice) and Lewis F. Powell Jr.',\n",
       "  1971),\n",
       " ('William H. Rehnquist (to be chief)', 1986)}"
      ]
     },
     "execution_count": 304,
     "metadata": {},
     "output_type": "execute_result"
    }
   ],
   "source": [
    "list_of_hearings=[]\n",
    "for i, row in data.iterrows():\n",
    "    tup = (row['Hearing'], row['Year'])\n",
    "    list_of_hearings.append(tup)\n",
    "nominees_year = set(list_of_hearings)\n",
    "nominees_year"
   ]
  },
  {
   "cell_type": "code",
   "execution_count": 136,
   "metadata": {},
   "outputs": [
    {
     "data": {
      "text/plain": [
       "13"
      ]
     },
     "execution_count": 136,
     "metadata": {},
     "output_type": "execute_result"
    }
   ],
   "source": [
    "list_of_hearings=[]\n",
    "for i, row in data.iterrows():\n",
    "    if row['Hearing'] == row['Speaker and title']:\n",
    "        tup = (row['Hearing'], row['Year'],row['Speaker (Party)(or nominated by)'] )\n",
    "    \n",
    "    list_of_hearings.append(tup)\n",
    "nominees_year_party = set(list_of_hearings)\n",
    "len(nominees_year_party)\n",
    "#republicans = [\"Sandra Day O'Connor\",'Anthony M. Kennedy', 'Antonin Scalia', ]"
   ]
  },
  {
   "cell_type": "code",
   "execution_count": 132,
   "metadata": {},
   "outputs": [],
   "source": [
    "nominate_dict = {}\n",
    "for nominate in list(nominees_year_party):\n",
    "    if nominate not in nominate_dict:\n",
    "        nominate_dict[nominate]=[]"
   ]
  },
  {
   "cell_type": "code",
   "execution_count": 123,
   "metadata": {},
   "outputs": [],
   "source": [
    "# nominate_dict = {}\n",
    "# for nominate in list(nominees_year):\n",
    "#     if nominate not in nominate_dict:\n",
    "#         nominate_dict[nominate]=[]"
   ]
  },
  {
   "cell_type": "code",
   "execution_count": 133,
   "metadata": {},
   "outputs": [],
   "source": [
    "for key, val in nominate_dict.items():\n",
    "    for i, row in data.iterrows():\n",
    "        if row['Hearing']==row['Speaker and title']==key[0]:\n",
    "            val.append(row['Statements'])        "
   ]
  },
  {
   "cell_type": "code",
   "execution_count": 196,
   "metadata": {},
   "outputs": [],
   "source": [
    "names =[]\n",
    "for i, row in data.iterrows():\n",
    "        name = row['Hearing']\n",
    "        names.append(name)\n",
    "names=list(set(names))"
   ]
  },
  {
   "cell_type": "code",
   "execution_count": 199,
   "metadata": {},
   "outputs": [
    {
     "data": {
      "text/plain": [
       "['William H. Rehnquist (to be chief)',\n",
       " 'Stephen G. Breyer',\n",
       " \"Sandra Day O'Connor\",\n",
       " 'David H. Souter',\n",
       " 'Neil M. Gorsuch',\n",
       " 'Ruth Bader Ginsburg',\n",
       " 'John G. Roberts, Jr.',\n",
       " 'John Paul Stevens',\n",
       " 'Samuel A. Alito, Jr.',\n",
       " 'William H. Rehnquist (to be Associate Justice) and Lewis F. Powell Jr.',\n",
       " 'Antonin Scalia',\n",
       " 'Sonia Sotomayor',\n",
       " 'Anthony M. Kennedy',\n",
       " 'Elena Kagan',\n",
       " 'Clarence Thomas']"
      ]
     },
     "execution_count": 199,
     "metadata": {},
     "output_type": "execute_result"
    }
   ],
   "source": [
    "names"
   ]
  },
  {
   "cell_type": "code",
   "execution_count": 203,
   "metadata": {},
   "outputs": [],
   "source": [
    "last_names = []\n",
    "for index,name in enumerate(names):\n",
    "    one_name = name.split()\n",
    "    if index==0:\n",
    "        last_names.append('rehnquist')\n",
    "    elif index==6:\n",
    "        last_names.append('roberts')\n",
    "    elif index==8:\n",
    "        last_names.append('alito')\n",
    "    elif index==9:\n",
    "        last_names.append('powell')  \n",
    "    else:\n",
    "        last_names.append(one_name[-1].lower())\n"
   ]
  },
  {
   "cell_type": "code",
   "execution_count": 204,
   "metadata": {},
   "outputs": [
    {
     "data": {
      "text/plain": [
       "['rehnquist',\n",
       " 'breyer',\n",
       " \"o'connor\",\n",
       " 'souter',\n",
       " 'gorsuch',\n",
       " 'ginsburg',\n",
       " 'roberts',\n",
       " 'stevens',\n",
       " 'alito',\n",
       " 'powell',\n",
       " 'scalia',\n",
       " 'sotomayor',\n",
       " 'kennedy',\n",
       " 'kagan',\n",
       " 'thomas']"
      ]
     },
     "execution_count": 204,
     "metadata": {},
     "output_type": "execute_result"
    }
   ],
   "source": [
    "last_names"
   ]
  },
  {
   "cell_type": "code",
   "execution_count": 330,
   "metadata": {},
   "outputs": [],
   "source": [
    "list_to_delete = ['senator', 'judge', 'chairman', 'leahy', 'grassley'] + last_names\n"
   ]
  },
  {
   "cell_type": "code",
   "execution_count": 140,
   "metadata": {},
   "outputs": [
    {
     "data": {
      "text/plain": [
       "dict_keys([('John Paul Stevens', 1975, 'R'), ('Samuel A. Alito, Jr.', 2006, 'R'), ('Elena Kagan', 2010, 'D'), ('Sonia Sotomayor', 2009, 'D'), ('Ruth Bader Ginsburg', 1993, 'D'), ('Neil M. Gorsuch', 2017, 'R'), ('Stephen G. Breyer', 1994, 'D'), (\"Sandra Day O'Connor\", 1981, 'R'), ('Anthony M. Kennedy', 1987, 'R'), ('John G. Roberts, Jr.', 2005, 'R'), ('David H. Souter', 1990, 'R'), ('Antonin Scalia', 1986, 'R'), ('Clarence Thomas', 1991, 'R')])"
      ]
     },
     "execution_count": 140,
     "metadata": {},
     "output_type": "execute_result"
    }
   ],
   "source": [
    "nominate_dict.keys()"
   ]
  },
  {
   "cell_type": "code",
   "execution_count": 227,
   "metadata": {},
   "outputs": [],
   "source": [
    "def clean_words(speech_dict):\n",
    "    \"\"\"\n",
    "    Creates a dictionary which keys are the\n",
    "    tuple (nominee,year, party), or (year, party), and its value a list of\n",
    "    tokenized words without StopWords.\n",
    "    \n",
    "    Inputs: Dictionary with speeches\n",
    "    Returns: Dictionary\n",
    "    \"\"\"\n",
    "    clean_dict = {}\n",
    "    tokenizer = RegexpTokenizer(r'\\w+')\n",
    "    stopWords = set(stopwords.words('english'))\n",
    "    for k, v in speech_dict.items():\n",
    "        if k not in clean_dict:\n",
    "            clean_dict[k]= []\n",
    "        for lines in v:\n",
    "            lines = str(lines).lower().translate(string.punctuation)\n",
    "            lines=tokenizer.tokenize(lines)\n",
    "            for line in lines:\n",
    "                if line not in stopWords and line not in set(list_to_delete):\n",
    "                    clean_dict[k].append([line])\n",
    "                \n",
    "    clean_dict = {k: [val for sublist in v for val in sublist] for k,v in clean_dict.items()}\n",
    "    return clean_dict"
   ]
  },
  {
   "cell_type": "code",
   "execution_count": 331,
   "metadata": {},
   "outputs": [],
   "source": [
    "nom = clean_words(nominate_dict)"
   ]
  },
  {
   "cell_type": "code",
   "execution_count": 332,
   "metadata": {},
   "outputs": [],
   "source": [
    "ls_counts = []\n",
    "for key in nominate_dict.keys():\n",
    "    ls_counts.append((key[1],len(nom[key]), key[2]))\n",
    "dataframe_length_nominees= pd.DataFrame(ls_counts, columns=['year', 'length_nominee', 'party_nominee'])"
   ]
  },
  {
   "cell_type": "code",
   "execution_count": 296,
   "metadata": {
    "scrolled": true
   },
   "outputs": [
    {
     "data": {
      "text/html": [
       "<div>\n",
       "<style scoped>\n",
       "    .dataframe tbody tr th:only-of-type {\n",
       "        vertical-align: middle;\n",
       "    }\n",
       "\n",
       "    .dataframe tbody tr th {\n",
       "        vertical-align: top;\n",
       "    }\n",
       "\n",
       "    .dataframe thead th {\n",
       "        text-align: right;\n",
       "    }\n",
       "</style>\n",
       "<table border=\"1\" class=\"dataframe\">\n",
       "  <thead>\n",
       "    <tr style=\"text-align: right;\">\n",
       "      <th></th>\n",
       "      <th>year</th>\n",
       "      <th>length_nominee</th>\n",
       "      <th>party_nominee</th>\n",
       "    </tr>\n",
       "  </thead>\n",
       "  <tbody>\n",
       "    <tr>\n",
       "      <th>0</th>\n",
       "      <td>1975</td>\n",
       "      <td>8335</td>\n",
       "      <td>R</td>\n",
       "    </tr>\n",
       "    <tr>\n",
       "      <th>7</th>\n",
       "      <td>1981</td>\n",
       "      <td>17321</td>\n",
       "      <td>R</td>\n",
       "    </tr>\n",
       "    <tr>\n",
       "      <th>11</th>\n",
       "      <td>1986</td>\n",
       "      <td>8110</td>\n",
       "      <td>R</td>\n",
       "    </tr>\n",
       "    <tr>\n",
       "      <th>8</th>\n",
       "      <td>1987</td>\n",
       "      <td>16033</td>\n",
       "      <td>R</td>\n",
       "    </tr>\n",
       "    <tr>\n",
       "      <th>10</th>\n",
       "      <td>1990</td>\n",
       "      <td>29770</td>\n",
       "      <td>R</td>\n",
       "    </tr>\n",
       "    <tr>\n",
       "      <th>12</th>\n",
       "      <td>1991</td>\n",
       "      <td>28132</td>\n",
       "      <td>R</td>\n",
       "    </tr>\n",
       "    <tr>\n",
       "      <th>4</th>\n",
       "      <td>1993</td>\n",
       "      <td>26000</td>\n",
       "      <td>D</td>\n",
       "    </tr>\n",
       "    <tr>\n",
       "      <th>6</th>\n",
       "      <td>1994</td>\n",
       "      <td>24275</td>\n",
       "      <td>D</td>\n",
       "    </tr>\n",
       "    <tr>\n",
       "      <th>9</th>\n",
       "      <td>2005</td>\n",
       "      <td>32686</td>\n",
       "      <td>R</td>\n",
       "    </tr>\n",
       "    <tr>\n",
       "      <th>1</th>\n",
       "      <td>2006</td>\n",
       "      <td>28305</td>\n",
       "      <td>R</td>\n",
       "    </tr>\n",
       "    <tr>\n",
       "      <th>3</th>\n",
       "      <td>2009</td>\n",
       "      <td>22505</td>\n",
       "      <td>D</td>\n",
       "    </tr>\n",
       "    <tr>\n",
       "      <th>2</th>\n",
       "      <td>2010</td>\n",
       "      <td>26173</td>\n",
       "      <td>D</td>\n",
       "    </tr>\n",
       "    <tr>\n",
       "      <th>5</th>\n",
       "      <td>2017</td>\n",
       "      <td>28166</td>\n",
       "      <td>R</td>\n",
       "    </tr>\n",
       "  </tbody>\n",
       "</table>\n",
       "</div>"
      ],
      "text/plain": [
       "    year  length_nominee party_nominee\n",
       "0   1975            8335             R\n",
       "7   1981           17321             R\n",
       "11  1986            8110             R\n",
       "8   1987           16033             R\n",
       "10  1990           29770             R\n",
       "12  1991           28132             R\n",
       "4   1993           26000             D\n",
       "6   1994           24275             D\n",
       "9   2005           32686             R\n",
       "1   2006           28305             R\n",
       "3   2009           22505             D\n",
       "2   2010           26173             D\n",
       "5   2017           28166             R"
      ]
     },
     "execution_count": 296,
     "metadata": {},
     "output_type": "execute_result"
    }
   ],
   "source": [
    "dataframe_length_nominees.sort_values(by=['year'])"
   ]
  },
  {
   "cell_type": "code",
   "execution_count": 187,
   "metadata": {},
   "outputs": [
    {
     "data": {
      "text/plain": [
       "dict_keys([('John Paul Stevens', 1975, 'R'), ('Samuel A. Alito, Jr.', 2006, 'R'), ('Elena Kagan', 2010, 'D'), ('Sonia Sotomayor', 2009, 'D'), ('Ruth Bader Ginsburg', 1993, 'D'), ('Neil M. Gorsuch', 2017, 'R'), ('Stephen G. Breyer', 1994, 'D'), (\"Sandra Day O'Connor\", 1981, 'R'), ('Anthony M. Kennedy', 1987, 'R'), ('John G. Roberts, Jr.', 2005, 'R'), ('David H. Souter', 1990, 'R'), ('Antonin Scalia', 1986, 'R'), ('Clarence Thomas', 1991, 'R')])"
      ]
     },
     "execution_count": 187,
     "metadata": {},
     "output_type": "execute_result"
    }
   ],
   "source": [
    "nominate_dict.keys()"
   ]
  },
  {
   "cell_type": "code",
   "execution_count": 190,
   "metadata": {},
   "outputs": [
    {
     "data": {
      "text/plain": [
       "[1975, 2006, 2017, 1981, 1987, 2005, 1990, 1986, 1991]"
      ]
     },
     "execution_count": 190,
     "metadata": {},
     "output_type": "execute_result"
    }
   ],
   "source": [
    "years_republican=[]\n",
    "years_democrat=[]\n",
    "for key in nominate_dict.keys():\n",
    "    if key[2]==\"R\":\n",
    "        years_republican.append(key[1])\n",
    "years_republican"
   ]
  },
  {
   "cell_type": "code",
   "execution_count": 186,
   "metadata": {},
   "outputs": [
    {
     "data": {
      "text/plain": [
       "dict_keys([(2017, 'R'), (2017, 'D'), (2010, 'D'), (2010, 'R'), (2009, 'D'), (2009, 'R'), (2006, 'R'), (2006, 'D'), (2005, 'R'), (2005, 'D'), (1994, 'D'), (1994, 'R'), (1993, 'D'), (1993, 'R'), (1991, 'D'), (1991, 'R'), (1990, 'D'), (1990, 'R'), (1987, 'D'), (1987, 'R'), (1986, 'R'), (1986, 'D'), (1981, 'R'), (1981, 'D'), (1975, 'D'), (1975, 'R'), (1971, 'D'), (1971, 'R')])"
      ]
     },
     "execution_count": 186,
     "metadata": {},
     "output_type": "execute_result"
    }
   ],
   "source": [
    "partisan_dict.keys()"
   ]
  },
  {
   "cell_type": "code",
   "execution_count": 261,
   "metadata": {},
   "outputs": [],
   "source": [
    "partisan = clean_words(partisan_dict)"
   ]
  },
  {
   "cell_type": "code",
   "execution_count": 277,
   "metadata": {},
   "outputs": [],
   "source": [
    "## REPUBLICANS QUESTIONING A DEMOCRAT CANDIDATE\n",
    "rep_vs_dem = {}\n",
    "dem_vs_rep = {}\n",
    "rep_vs_rep = {}\n",
    "dem_vs_dem = {}\n",
    "\n",
    "for k, val in partisan.items():\n",
    "    if k[0] not in years_republican and k[1]=='R':\n",
    "        rep_vs_dem[k[0]] = val\n",
    "\n",
    "## DEMOCRATS QUESTIONING A REPUBLICAN CANDIDATE\n",
    "for k, val in partisan.items():\n",
    "    if k[0] in years_republican and k[1]=='D':\n",
    "        dem_vs_rep[k[0]] = val\n",
    "\n",
    "## REPUBLICANS QUESTIONING A REPUBLICAN CANDIDATE\n",
    "for k, val in partisan.items():\n",
    "    if k[0] in years_republican and k[1]=='R':\n",
    "        rep_vs_rep[k[0]] = val\n",
    "\n",
    "## DEMOCRATS QUESTIONING A DEMOCRAT CANDIDATE\n",
    "for k, val in partisan.items():\n",
    "    if k[0] not in years_republican and k[1]=='D':\n",
    "        dem_vs_dem[k[0]] = val"
   ]
  },
  {
   "cell_type": "code",
   "execution_count": 278,
   "metadata": {},
   "outputs": [],
   "source": [
    "def df_length(dictionary, party):\n",
    "    \n",
    "    ls_counts = []\n",
    "    for year,text in dictionary.items():\n",
    "        ls_counts.append((year,len(text)))\n",
    "    dataframe_length= pd.DataFrame(ls_counts, columns=['year', str('length'+\"_\"+ party)])\n",
    "    return dataframe_length"
   ]
  },
  {
   "cell_type": "code",
   "execution_count": 281,
   "metadata": {},
   "outputs": [],
   "source": [
    "length_rep_vs_dem = df_length(rep_vs_dem, \"rep\")\n",
    "length_rep_vs_rep = df_length(rep_vs_rep, \"rep\")\n",
    "length_dem_vs_rep = df_length(dem_vs_rep, \"dem\")\n",
    "length_dem_vs_dem = df_length(dem_vs_dem, \"dem\")"
   ]
  },
  {
   "cell_type": "code",
   "execution_count": 288,
   "metadata": {},
   "outputs": [
    {
     "data": {
      "text/plain": [
       "[1975, 2006, 2017, 1981, 1987, 2005, 1990, 1986, 1991]"
      ]
     },
     "execution_count": 288,
     "metadata": {},
     "output_type": "execute_result"
    }
   ],
   "source": [
    "years_republican"
   ]
  },
  {
   "cell_type": "code",
   "execution_count": 286,
   "metadata": {},
   "outputs": [],
   "source": [
    "length_rep = length_rep_vs_dem.append(length_rep_vs_rep)\n",
    "length_dem = length_dem_vs_dem.append(length_dem_vs_rep)\n"
   ]
  },
  {
   "cell_type": "code",
   "execution_count": 297,
   "metadata": {},
   "outputs": [],
   "source": [
    "lengths_r_d= pd.merge(length_rep, length_dem, on='year')\n",
    "lengths = pd.merge(lengths_r_d, dataframe_length_nominees, on ='year')"
   ]
  },
  {
   "cell_type": "code",
   "execution_count": 299,
   "metadata": {},
   "outputs": [
    {
     "data": {
      "text/html": [
       "<div>\n",
       "<style scoped>\n",
       "    .dataframe tbody tr th:only-of-type {\n",
       "        vertical-align: middle;\n",
       "    }\n",
       "\n",
       "    .dataframe tbody tr th {\n",
       "        vertical-align: top;\n",
       "    }\n",
       "\n",
       "    .dataframe thead th {\n",
       "        text-align: right;\n",
       "    }\n",
       "</style>\n",
       "<table border=\"1\" class=\"dataframe\">\n",
       "  <thead>\n",
       "    <tr style=\"text-align: right;\">\n",
       "      <th></th>\n",
       "      <th>year</th>\n",
       "      <th>length_rep</th>\n",
       "      <th>length_dem</th>\n",
       "      <th>length_nominee</th>\n",
       "      <th>party_nominee</th>\n",
       "    </tr>\n",
       "  </thead>\n",
       "  <tbody>\n",
       "    <tr>\n",
       "      <th>12</th>\n",
       "      <td>1975</td>\n",
       "      <td>1451</td>\n",
       "      <td>5457</td>\n",
       "      <td>8335</td>\n",
       "      <td>R</td>\n",
       "    </tr>\n",
       "    <tr>\n",
       "      <th>11</th>\n",
       "      <td>1981</td>\n",
       "      <td>15108</td>\n",
       "      <td>11535</td>\n",
       "      <td>17321</td>\n",
       "      <td>R</td>\n",
       "    </tr>\n",
       "    <tr>\n",
       "      <th>10</th>\n",
       "      <td>1986</td>\n",
       "      <td>41355</td>\n",
       "      <td>29206</td>\n",
       "      <td>8110</td>\n",
       "      <td>R</td>\n",
       "    </tr>\n",
       "    <tr>\n",
       "      <th>9</th>\n",
       "      <td>1987</td>\n",
       "      <td>17103</td>\n",
       "      <td>17153</td>\n",
       "      <td>16033</td>\n",
       "      <td>R</td>\n",
       "    </tr>\n",
       "    <tr>\n",
       "      <th>8</th>\n",
       "      <td>1990</td>\n",
       "      <td>17239</td>\n",
       "      <td>26177</td>\n",
       "      <td>29770</td>\n",
       "      <td>R</td>\n",
       "    </tr>\n",
       "    <tr>\n",
       "      <th>7</th>\n",
       "      <td>1991</td>\n",
       "      <td>29746</td>\n",
       "      <td>39965</td>\n",
       "      <td>28132</td>\n",
       "      <td>R</td>\n",
       "    </tr>\n",
       "    <tr>\n",
       "      <th>3</th>\n",
       "      <td>1993</td>\n",
       "      <td>21987</td>\n",
       "      <td>27903</td>\n",
       "      <td>26000</td>\n",
       "      <td>D</td>\n",
       "    </tr>\n",
       "    <tr>\n",
       "      <th>2</th>\n",
       "      <td>1994</td>\n",
       "      <td>17843</td>\n",
       "      <td>25427</td>\n",
       "      <td>24275</td>\n",
       "      <td>D</td>\n",
       "    </tr>\n",
       "    <tr>\n",
       "      <th>6</th>\n",
       "      <td>2005</td>\n",
       "      <td>26059</td>\n",
       "      <td>26054</td>\n",
       "      <td>32686</td>\n",
       "      <td>R</td>\n",
       "    </tr>\n",
       "    <tr>\n",
       "      <th>5</th>\n",
       "      <td>2006</td>\n",
       "      <td>33173</td>\n",
       "      <td>30903</td>\n",
       "      <td>28305</td>\n",
       "      <td>R</td>\n",
       "    </tr>\n",
       "    <tr>\n",
       "      <th>1</th>\n",
       "      <td>2009</td>\n",
       "      <td>23772</td>\n",
       "      <td>25675</td>\n",
       "      <td>22505</td>\n",
       "      <td>D</td>\n",
       "    </tr>\n",
       "    <tr>\n",
       "      <th>0</th>\n",
       "      <td>2010</td>\n",
       "      <td>23908</td>\n",
       "      <td>25428</td>\n",
       "      <td>26173</td>\n",
       "      <td>D</td>\n",
       "    </tr>\n",
       "    <tr>\n",
       "      <th>4</th>\n",
       "      <td>2017</td>\n",
       "      <td>32702</td>\n",
       "      <td>32204</td>\n",
       "      <td>28166</td>\n",
       "      <td>R</td>\n",
       "    </tr>\n",
       "  </tbody>\n",
       "</table>\n",
       "</div>"
      ],
      "text/plain": [
       "    year  length_rep  length_dem  length_nominee party_nominee\n",
       "12  1975        1451        5457            8335             R\n",
       "11  1981       15108       11535           17321             R\n",
       "10  1986       41355       29206            8110             R\n",
       "9   1987       17103       17153           16033             R\n",
       "8   1990       17239       26177           29770             R\n",
       "7   1991       29746       39965           28132             R\n",
       "3   1993       21987       27903           26000             D\n",
       "2   1994       17843       25427           24275             D\n",
       "6   2005       26059       26054           32686             R\n",
       "5   2006       33173       30903           28305             R\n",
       "1   2009       23772       25675           22505             D\n",
       "0   2010       23908       25428           26173             D\n",
       "4   2017       32702       32204           28166             R"
      ]
     },
     "execution_count": 299,
     "metadata": {},
     "output_type": "execute_result"
    }
   ],
   "source": [
    "lengths.sort_values(by=['year'])"
   ]
  },
  {
   "cell_type": "code",
   "execution_count": 219,
   "metadata": {},
   "outputs": [],
   "source": [
    "def total_word_count(data):\n",
    "    '''\n",
    "    Function to create a dictionary of words counts by president and year. A larger function that allows the user to choose the data cut calls this function.\n",
    "    \n",
    "    inputs: \n",
    "        data: speech text dictionart\n",
    "    output:\n",
    "       dict_use: a dictionary of dictionary of counts.\n",
    "    '''\n",
    "    dict_use = {}\n",
    "    for k in data.keys():\n",
    "        for word in data[k]:\n",
    "            if word in dict_use.keys():\n",
    "                        dict_use[word] += 1\n",
    "            else:\n",
    "                dict_use[word] = 1  \n",
    "    return dict_use\n"
   ]
  },
  {
   "cell_type": "code",
   "execution_count": 231,
   "metadata": {},
   "outputs": [],
   "source": [
    "dict_test = total_word_count(nom)"
   ]
  },
  {
   "cell_type": "code",
   "execution_count": 308,
   "metadata": {},
   "outputs": [],
   "source": [
    "def df_of_counts(dictionary, k_words):\n",
    "    top_list = sorted(dictionary, key = dictionary.get, reverse=True)[:k_words]\n",
    "    top_words = {word:val for word,val in dictionary.items() if word in top_list}\n",
    "    dataframe_with_counts= pd.DataFrame(top_words.items(), columns=['Words', 'Count'])\n",
    "    return dataframe_with_counts"
   ]
  },
  {
   "cell_type": "code",
   "execution_count": 343,
   "metadata": {},
   "outputs": [],
   "source": [
    "counts_nominates = df_of_counts(dict_test,40).sort_values(by=['Count'], ascending=False)\n",
    "counts_democrats = df_of_counts(democrat_count,40).sort_values(by=['Count'], ascending=False)\n",
    "counts_republicans = df_of_counts(republican_count,40).sort_values(by=['Count'], ascending=False)"
   ]
  },
  {
   "cell_type": "code",
   "execution_count": 344,
   "metadata": {
    "scrolled": true
   },
   "outputs": [],
   "source": [
    "counts_nominates\n",
    "counts_nominates.to_csv(\"nominates.csv\",index=False)"
   ]
  },
  {
   "cell_type": "code",
   "execution_count": 345,
   "metadata": {
    "scrolled": true
   },
   "outputs": [],
   "source": [
    "counts_democrats\n",
    "counts_democrats.to_csv('democrats.csv',index=False)"
   ]
  },
  {
   "cell_type": "code",
   "execution_count": 346,
   "metadata": {},
   "outputs": [],
   "source": [
    "counts_republicans\n",
    "counts_republicans.to_csv('republicans.csv', index=False)"
   ]
  },
  {
   "cell_type": "code",
   "execution_count": 347,
   "metadata": {},
   "outputs": [],
   "source": [
    "lengths.to_csv('lengths.csv', index=False)"
   ]
  }
 ],
 "metadata": {
  "kernelspec": {
   "display_name": "Python 3",
   "language": "python",
   "name": "python3"
  },
  "language_info": {
   "codemirror_mode": {
    "name": "ipython",
    "version": 3
   },
   "file_extension": ".py",
   "mimetype": "text/x-python",
   "name": "python",
   "nbconvert_exporter": "python",
   "pygments_lexer": "ipython3",
   "version": "3.7.3"
  }
 },
 "nbformat": 4,
 "nbformat_minor": 2
}
